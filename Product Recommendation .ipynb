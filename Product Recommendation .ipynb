{
 "cells": [
  {
   "cell_type": "code",
   "execution_count": 1,
   "id": "651c02c5",
   "metadata": {},
   "outputs": [],
   "source": [
    "import pandas as pd\n",
    "from sklearn.feature_extraction.text import TfidfVectorizer\n",
    "from sklearn.metrics.pairwise import linear_kernel\n",
    "from sklearn.cluster import KMeans\n",
    "import matplotlib.pyplot as plt\n",
    "import pandas as pd\n",
    "import numpy as np"
   ]
  },
  {
   "cell_type": "code",
   "execution_count": 2,
   "id": "d4e48096",
   "metadata": {},
   "outputs": [
    {
     "data": {
      "text/html": [
       "<div>\n",
       "<style scoped>\n",
       "    .dataframe tbody tr th:only-of-type {\n",
       "        vertical-align: middle;\n",
       "    }\n",
       "\n",
       "    .dataframe tbody tr th {\n",
       "        vertical-align: top;\n",
       "    }\n",
       "\n",
       "    .dataframe thead th {\n",
       "        text-align: right;\n",
       "    }\n",
       "</style>\n",
       "<table border=\"1\" class=\"dataframe\">\n",
       "  <thead>\n",
       "    <tr style=\"text-align: right;\">\n",
       "      <th></th>\n",
       "      <th>product_uid</th>\n",
       "      <th>product_description</th>\n",
       "    </tr>\n",
       "  </thead>\n",
       "  <tbody>\n",
       "    <tr>\n",
       "      <th>0</th>\n",
       "      <td>100001</td>\n",
       "      <td>Not only do angles make joints stronger, they ...</td>\n",
       "    </tr>\n",
       "    <tr>\n",
       "      <th>1</th>\n",
       "      <td>100002</td>\n",
       "      <td>BEHR Premium Textured DECKOVER is an innovativ...</td>\n",
       "    </tr>\n",
       "    <tr>\n",
       "      <th>2</th>\n",
       "      <td>100003</td>\n",
       "      <td>Classic architecture meets contemporary design...</td>\n",
       "    </tr>\n",
       "    <tr>\n",
       "      <th>3</th>\n",
       "      <td>100004</td>\n",
       "      <td>The Grape Solar 265-Watt Polycrystalline PV So...</td>\n",
       "    </tr>\n",
       "    <tr>\n",
       "      <th>4</th>\n",
       "      <td>100005</td>\n",
       "      <td>Update your bathroom with the Delta Vero Singl...</td>\n",
       "    </tr>\n",
       "  </tbody>\n",
       "</table>\n",
       "</div>"
      ],
      "text/plain": [
       "   product_uid                                product_description\n",
       "0       100001  Not only do angles make joints stronger, they ...\n",
       "1       100002  BEHR Premium Textured DECKOVER is an innovativ...\n",
       "2       100003  Classic architecture meets contemporary design...\n",
       "3       100004  The Grape Solar 265-Watt Polycrystalline PV So...\n",
       "4       100005  Update your bathroom with the Delta Vero Singl..."
      ]
     },
     "execution_count": 2,
     "metadata": {},
     "output_type": "execute_result"
    }
   ],
   "source": [
    "df = pd.read_csv(\"./products.csv\")\n",
    "df.head(5)"
   ]
  },
  {
   "cell_type": "code",
   "execution_count": 3,
   "id": "adc60295",
   "metadata": {},
   "outputs": [
    {
     "data": {
      "text/plain": [
       "(124428, 2)"
      ]
     },
     "execution_count": 3,
     "metadata": {},
     "output_type": "execute_result"
    }
   ],
   "source": [
    "df.shape"
   ]
  },
  {
   "cell_type": "code",
   "execution_count": 4,
   "id": "71bc523c",
   "metadata": {},
   "outputs": [
    {
     "data": {
      "text/plain": [
       "(124428, 2)"
      ]
     },
     "execution_count": 4,
     "metadata": {},
     "output_type": "execute_result"
    }
   ],
   "source": [
    "df = df.dropna()\n",
    "df.shape"
   ]
  },
  {
   "cell_type": "code",
   "execution_count": 5,
   "id": "698d6264",
   "metadata": {},
   "outputs": [],
   "source": [
    "desc = df.head(300)"
   ]
  },
  {
   "cell_type": "code",
   "execution_count": 6,
   "id": "58679642",
   "metadata": {},
   "outputs": [
    {
     "data": {
      "text/plain": [
       "0     Not only do angles make joints stronger, they ...\n",
       "1     BEHR Premium Textured DECKOVER is an innovativ...\n",
       "2     Classic architecture meets contemporary design...\n",
       "3     The Grape Solar 265-Watt Polycrystalline PV So...\n",
       "4     Update your bathroom with the Delta Vero Singl...\n",
       "5     Achieving delicious results is almost effortle...\n",
       "6     The Quantum Adjustable 2-Light LED Black Emerg...\n",
       "7     The Teks #10 x 1-1/2 in. Zinc-Plated Steel Was...\n",
       "8     Get the House of Fara 3/4 in. x 3 in. x 8 ft. ...\n",
       "9     Valley View Industries Metal Stakes (4-Pack) a...\n",
       "10    Recycler 22 in. Personal Pace Variable Speed S...\n",
       "11    The 96 in. wide Caramel Simple Weave Rollup Ba...\n",
       "12    The InSinkErator SinkTop Switch Single Outlet ...\n",
       "13    The Rubbermaid 1-Step Folding Plastic Step Sto...\n",
       "14    Backyard X-Scapes, Inc. uses the finest bamboo...\n",
       "15    Make grilling great with this handsome and fun...\n",
       "16    The MD Building Products 36 in. x 36 in. x 1/5...\n",
       "17    This classic plastic sprinkler head that fits ...\n",
       "18    The House of Fara 8 Linear ft. primed MDF Over...\n",
       "19    These unique LED multi-color sticks are sure t...\n",
       "20    Installed in parks and backyards across the gl...\n",
       "21    The Samsung 4.2 cu. ft. Front Load Washer with...\n",
       "22    Quikrete 80 lb. Crack-Resistant Concrete is de...\n",
       "23    From Smartphones to refrigerators and everythi...\n",
       "24    Save your back and make moving easier with thi...\n",
       "25    Our 10 ft. x 10 ft. (100 sq. ft.) Yorkstone pa...\n",
       "26    The UltraTouch 48 in. x 24 ft. Radiant Barrier...\n",
       "27    Reed fencing is a convenient and cost effectiv...\n",
       "28    Achieving a vintage, time-worn look is simple ...\n",
       "29    White Designer Shelf Brackets offer a stylish ...\n",
       "30    The Mosser Lee 5 lb. Assorted Polished Stone m...\n",
       "31    The NorskWall NSNW4PK Panel Kit is an innovati...\n",
       "32    This easy-to-assemble Decorative Wire Chrome F...\n",
       "33    Use the Marshalltown Masonry Brush for a wide ...\n",
       "34    The FirsTime Champagne Essential wall clock is...\n",
       "35    This 12 in. Single Track Bracket from Rubberma...\n",
       "36    The Husky 9-Pocket Maintenance Pouch has multi...\n",
       "37    RIDGID presents the X4 18-Volt 1/2 in. Impact ...\n",
       "38    The Emberglow Vent-Free Gas Stove helps add wa...\n",
       "39    With an exceptional variety of different style...\n",
       "40    The 12in LED Silver Under Cabinet Light (2-pac...\n",
       "41    Update the look of your bathroom with help fro...\n",
       "42    Quikrete 50 lb. Non-Shrink Precision Grout is ...\n",
       "43    Create a fixture just about anywhere with this...\n",
       "44    The Grayson collection from Thomasville brings...\n",
       "45    The HDX 6 ft. long Heavy Duty Steel Green Pain...\n",
       "46    This expanded sheet metal can be altered in sh...\n",
       "47    Offering the ultimate in versatility, Werner's...\n",
       "48    Henry 587 Durabrite white elastomeric roof coa...\n",
       "49    Sit back and relax in comfort and style in the...\n",
       "Name: product_description, dtype: object"
      ]
     },
     "execution_count": 6,
     "metadata": {},
     "output_type": "execute_result"
    }
   ],
   "source": [
    "desc[\"product_description\"].head(50)"
   ]
  },
  {
   "cell_type": "code",
   "execution_count": 7,
   "id": "f967a487",
   "metadata": {
    "scrolled": true
   },
   "outputs": [],
   "source": [
    "# TF-IDF Vectorization\n",
    "tfidf = TfidfVectorizer(stop_words='english')\n",
    "tfidf_matrix = tfidf.fit_transform(desc['product_description'])"
   ]
  },
  {
   "cell_type": "code",
   "execution_count": 8,
   "id": "88f777c1",
   "metadata": {},
   "outputs": [
    {
     "data": {
      "text/plain": [
       "<300x6627 sparse matrix of type '<class 'numpy.float64'>'\n",
       "\twith 20969 stored elements in Compressed Sparse Row format>"
      ]
     },
     "execution_count": 8,
     "metadata": {},
     "output_type": "execute_result"
    }
   ],
   "source": [
    "tfidf_matrix"
   ]
  },
  {
   "cell_type": "code",
   "execution_count": 9,
   "id": "04e5d4c2",
   "metadata": {},
   "outputs": [
    {
     "name": "stderr",
     "output_type": "stream",
     "text": [
      "C:\\Users\\tanks\\anaconda3\\envs\\DAB300\\lib\\site-packages\\sklearn\\cluster\\_kmeans.py:870: FutureWarning: The default value of `n_init` will change from 10 to 'auto' in 1.4. Set the value of `n_init` explicitly to suppress the warning\n",
      "  warnings.warn(\n"
     ]
    },
    {
     "data": {
      "image/png": "[encoded data removed]",
      "text/plain": [
       "<Figure size 640x480 with 1 Axes>"
      ]
     },
     "metadata": {},
     "output_type": "display_data"
    }
   ],
   "source": [
    "KM = tfidf_matrix\n",
    "\n",
    "kmeans = KMeans(n_clusters = 10, init = 'k-means++')\n",
    "y_kmeans = kmeans.fit_predict(KM)\n",
    "plt.plot(y_kmeans, \".\")\n",
    "plt.show()"
   ]
  },
  {
   "cell_type": "code",
   "execution_count": 10,
   "id": "203a0bcd",
   "metadata": {},
   "outputs": [],
   "source": [
    "def print_cluster(i):\n",
    "    print(\"Cluster %d:\" % i),\n",
    "    for ind in order_centroids[i, :10]:\n",
    "        print(' %s' % terms[ind]),\n",
    "    print"
   ]
  },
  {
   "cell_type": "code",
   "execution_count": 11,
   "id": "d4300cd9",
   "metadata": {},
   "outputs": [
    {
     "name": "stdout",
     "output_type": "stream",
     "text": [
      "Top terms per cluster:\n",
      "Cluster 0:\n",
      " water\n",
      " concrete\n",
      " insulation\n",
      " use\n",
      " heater\n",
      " used\n",
      " ft\n",
      " tape\n",
      " fiberglass\n",
      " easy\n",
      "Cluster 1:\n",
      " wood\n",
      " porcelain\n",
      " outdoor\n",
      " recommended\n",
      " tile\n",
      " resistant\n",
      " piece\n",
      " commercial\n",
      " products\n",
      " indoor\n",
      "Cluster 2:\n",
      " wall\n",
      " storage\n",
      " ft\n",
      " panels\n",
      " easy\n",
      " piece\n",
      " add\n",
      " plate\n",
      " shelves\n",
      " single\n",
      "Cluster 3:\n",
      " air\n",
      " cooking\n",
      " wash\n",
      " water\n",
      " filter\n",
      " cycle\n",
      " heat\n",
      " control\n",
      " ft\n",
      " window\n",
      "Cluster 4:\n",
      " volt\n",
      " lithium\n",
      " ion\n",
      " battery\n",
      " power\n",
      " compact\n",
      " 20\n",
      " max\n",
      " 48\n",
      " better\n",
      "Cluster 5:\n",
      " rug\n",
      " vary\n",
      " shades\n",
      " order\n",
      " slightly\n",
      " product\n",
      " size\n",
      " bamboo\n",
      " natural\n",
      " window\n",
      "Cluster 6:\n",
      " light\n",
      " watt\n",
      " led\n",
      " bulbs\n",
      " power\n",
      " lighting\n",
      " low\n",
      " bulb\n",
      " plan\n",
      " 000\n",
      "Cluster 7:\n",
      " metal\n",
      " shelf\n",
      " unit\n",
      " adjustable\n",
      " grill\n",
      " ziplevel\n",
      " shelves\n",
      " nozzle\n",
      " steel\n",
      " durable\n",
      "Cluster 8:\n",
      " door\n",
      " nickel\n",
      " design\n",
      " pull\n",
      " cabinet\n",
      " center\n",
      " satin\n",
      " easy\n",
      " mount\n",
      " installation\n",
      "Cluster 9:\n",
      " cutting\n",
      " easy\n",
      " steel\n",
      " joe\n",
      " lightweight\n",
      " pliers\n",
      " height\n",
      " grass\n",
      " ladder\n",
      " blade\n"
     ]
    }
   ],
   "source": [
    "true_k = 10\n",
    "\n",
    "model = KMeans(n_clusters=true_k, init='k-means++', max_iter=100, n_init=1)\n",
    "model.fit(tfidf_matrix)\n",
    "\n",
    "print(\"Top terms per cluster:\")\n",
    "order_centroids = model.cluster_centers_.argsort()[:, ::-1]\n",
    "terms = tfidf.get_feature_names_out()\n",
    "for i in range(true_k):\n",
    "    print_cluster(i)"
   ]
  },
  {
   "cell_type": "code",
   "execution_count": 12,
   "id": "0a659280",
   "metadata": {},
   "outputs": [],
   "source": [
    "def show_recommendations(product):\n",
    "    #print(\"Cluster ID:\")\n",
    "    Y = tfidf.transform([product])\n",
    "    prediction = model.predict(Y)\n",
    "    #print(prediction)\n",
    "    print_cluster(prediction[0])"
   ]
  },
  {
   "cell_type": "code",
   "execution_count": 13,
   "id": "4baa2ff8",
   "metadata": {},
   "outputs": [
    {
     "name": "stdout",
     "output_type": "stream",
     "text": [
      "Cluster 9:\n",
      " cutting\n",
      " easy\n",
      " steel\n",
      " joe\n",
      " lightweight\n",
      " pliers\n",
      " height\n",
      " grass\n",
      " ladder\n",
      " blade\n"
     ]
    }
   ],
   "source": [
    "show_recommendations(\"cutting tool\")"
   ]
  },
  {
   "cell_type": "code",
   "execution_count": 14,
   "id": "87dd2ef2",
   "metadata": {},
   "outputs": [
    {
     "name": "stdout",
     "output_type": "stream",
     "text": [
      "Cluster 0:\n",
      " water\n",
      " concrete\n",
      " insulation\n",
      " use\n",
      " heater\n",
      " used\n",
      " ft\n",
      " tape\n",
      " fiberglass\n",
      " easy\n"
     ]
    }
   ],
   "source": [
    "show_recommendations(\"spray paint\")"
   ]
  },
  {
   "cell_type": "code",
   "execution_count": 15,
   "id": "42fa95ee",
   "metadata": {
    "scrolled": true
   },
   "outputs": [
    {
     "name": "stdout",
     "output_type": "stream",
     "text": [
      "Cluster 7:\n",
      " metal\n",
      " shelf\n",
      " unit\n",
      " adjustable\n",
      " grill\n",
      " ziplevel\n",
      " shelves\n",
      " nozzle\n",
      " steel\n",
      " durable\n"
     ]
    }
   ],
   "source": [
    "show_recommendations(\"steel drill\")"
   ]
  },
  {
   "cell_type": "code",
   "execution_count": 16,
   "id": "755c94f2",
   "metadata": {},
   "outputs": [
    {
     "name": "stdout",
     "output_type": "stream",
     "text": [
      "Cluster 0:\n",
      " water\n",
      " concrete\n",
      " insulation\n",
      " use\n",
      " heater\n",
      " used\n",
      " ft\n",
      " tape\n",
      " fiberglass\n",
      " easy\n"
     ]
    }
   ],
   "source": [
    "show_recommendations(\"water\")"
   ]
  }
 ],
 "metadata": {
  "kernelspec": {
   "display_name": "Python 3 (ipykernel)",
   "language": "python",
   "name": "python3"
  },
  "language_info": {
   "codemirror_mode": {
    "name": "ipython",
    "version": 3
   },
   "file_extension": ".py",
   "mimetype": "text/x-python",
   "name": "python",
   "nbconvert_exporter": "python",
   "pygments_lexer": "ipython3",
   "version": "3.9.16"
  }
 },
 "nbformat": 4,
 "nbformat_minor": 5
}
